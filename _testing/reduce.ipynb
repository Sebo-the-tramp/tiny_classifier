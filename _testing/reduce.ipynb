{
 "cells": [
  {
   "cell_type": "code",
   "execution_count": 14,
   "metadata": {},
   "outputs": [
    {
     "data": {
      "text/plain": [
       "array([1, 2])"
      ]
     },
     "execution_count": 14,
     "metadata": {},
     "output_type": "execute_result"
    }
   ],
   "source": [
    "import numpy as np\n",
    "\n",
    "c = [1, 0, 0, 0, 0, 2, 0, 0, 0, 0]\n",
    "np.add.reduceat(c, np.arange(0, len(c), 5))"
   ]
  },
  {
   "cell_type": "code",
   "execution_count": 16,
   "metadata": {},
   "outputs": [
    {
     "data": {
      "text/plain": [
       "array([0, 5])"
      ]
     },
     "execution_count": 16,
     "metadata": {},
     "output_type": "execute_result"
    }
   ],
   "source": [
    "np.arange(0, len(c), 5)"
   ]
  },
  {
   "cell_type": "code",
   "execution_count": 17,
   "metadata": {},
   "outputs": [
    {
     "name": "stdout",
     "output_type": "stream",
     "text": [
      "[0 5]\n",
      "Row-wise reduction result: [[1 2]\n",
      " [1 2]]\n"
     ]
    }
   ],
   "source": [
    "import numpy as np\n",
    "\n",
    "# Create a 2D array (for example, 10x10)\n",
    "array_2d = np.array([[1, 0, 0, 0, 0, 2, 0, 0, 0, 0], [1, 0, 0, 0, 0, 2, 0, 0, 0, 0]])  # Replace with your 2D array data\n",
    "\n",
    "# Define indices for reduction\n",
    "indices = np.arange(0, array_2d.shape[1], 5)  # Change shape[1] to shape[0] for row-wise operation\n",
    "print(indices)\n",
    "\n",
    "# For row-wise reduction:\n",
    "result_rows = np.add.reduceat(array_2d, indices, axis=1)\n",
    "\n",
    "print(\"Row-wise reduction result:\", result_rows)\n"
   ]
  },
  {
   "cell_type": "code",
   "execution_count": 18,
   "metadata": {},
   "outputs": [
    {
     "name": "stdout",
     "output_type": "stream",
     "text": [
      "tensor([[1., 0., 0., 0., 0., 2., 0., 0., 0., 0.],\n",
      "        [1., 0., 0., 0., 0., 2., 0., 0., 0., 0.]])\n",
      "tensor([[1., 2.],\n",
      "        [1., 2.]])\n"
     ]
    }
   ],
   "source": [
    "\n",
    "import torch\n",
    "tensor_2d = torch.Tensor([[1, 0, 0, 0, 0, 2, 0, 0, 0, 0], [1, 0, 0, 0, 0, 2, 0, 0, 0, 0]])  # Replace with your 2D array data\n",
    "print(tensor_2d)\n",
    "\n",
    "# Reshape each row into a 2D tensor of shape (num_rows, num_chunks, 10)\n",
    "reshaped = tensor_2d.reshape(tensor_2d.size(0), -1, 5).sum(dim=-1)\n",
    "\n",
    "print(reshaped)\n",
    "\n",
    "# Sum over the last dimension to sum every 10 elements\n",
    "#sum_blocks = reshaped.sum(dim=-1)"
   ]
  },
  {
   "cell_type": "code",
   "execution_count": 22,
   "metadata": {},
   "outputs": [
    {
     "name": "stdout",
     "output_type": "stream",
     "text": [
      "tensor([[[1., 1., 1., 1., 1.],\n",
      "         [2., 2., 2., 2., 2.]],\n",
      "\n",
      "        [[1., 1., 1., 1., 1.],\n",
      "         [2., 2., 2., 2., 2.]]])\n"
     ]
    }
   ],
   "source": [
    "#expand again sum_blocks to the original shape\n",
    "sum_blocks = reshaped.unsqueeze(-1).expand(-1, -1, 5)\n",
    "print(sum_blocks)"
   ]
  },
  {
   "cell_type": "code",
   "execution_count": 30,
   "metadata": {},
   "outputs": [],
   "source": [
    "tensor_2d = torch.Tensor([[0.2, 0, 0.8, 0, 0, 0, 0, 0, 0, 0], [0, 0, 0.3, 0, 0, 0, 0, 0.7, 0, 0]])  # Replace with your 2D array data\n"
   ]
  },
  {
   "cell_type": "code",
   "execution_count": 37,
   "metadata": {},
   "outputs": [
    {
     "name": "stdout",
     "output_type": "stream",
     "text": [
      "tensor([[[0.1000, 0.1000, 0.1000, 0.1000, 0.1000],\n",
      "         [0.0000, 0.0000, 0.0000, 0.0000, 0.0000]],\n",
      "\n",
      "        [[0.0300, 0.0300, 0.0300, 0.0300, 0.0300],\n",
      "         [0.0700, 0.0700, 0.0700, 0.0700, 0.0700]]])\n"
     ]
    }
   ],
   "source": [
    "# Reshape each row into a 2D tensor of shape (num_rows, num_chunks, 10)\n",
    "reshaped = tensor_2d.reshape(tensor_2d.size(0), -1, 5).sum(dim=-1)\n",
    "sum_blocks = reshaped.unsqueeze(-1).expand(-1, -1, 5)/10\n",
    "print(sum_blocks)"
   ]
  },
  {
   "cell_type": "code",
   "execution_count": 36,
   "metadata": {},
   "outputs": [
    {
     "name": "stdout",
     "output_type": "stream",
     "text": [
      "tensor([[1.0000, 1.0000, 1.0000, 1.0000, 1.0000, 0.0000, 0.0000, 0.0000, 0.0000,\n",
      "         0.0000],\n",
      "        [0.3000, 0.3000, 0.3000, 0.3000, 0.3000, 0.7000, 0.7000, 0.7000, 0.7000,\n",
      "         0.7000]])\n"
     ]
    }
   ],
   "source": [
    "sum_blocks = reshaped.unsqueeze(-1).expand(-1, -1, 5).reshape(tensor_2d.size(0), -1)\n",
    "print(sum_blocks)"
   ]
  },
  {
   "cell_type": "code",
   "execution_count": null,
   "metadata": {},
   "outputs": [],
   "source": []
  }
 ],
 "metadata": {
  "kernelspec": {
   "display_name": "tinyCL",
   "language": "python",
   "name": "python3"
  },
  "language_info": {
   "codemirror_mode": {
    "name": "ipython",
    "version": 3
   },
   "file_extension": ".py",
   "mimetype": "text/x-python",
   "name": "python",
   "nbconvert_exporter": "python",
   "pygments_lexer": "ipython3",
   "version": "3.10.13"
  }
 },
 "nbformat": 4,
 "nbformat_minor": 2
}
